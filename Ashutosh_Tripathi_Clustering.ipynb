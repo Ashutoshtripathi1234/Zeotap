{
 "cells": [
  {
   "cell_type": "code",
   "execution_count": null,
   "id": "fe6e834b",
   "metadata": {},
   "outputs": [],
   "source": [
    "from sklearn.cluster import KMeans\n",
    "from sklearn.metrics import davies_bouldin_score, silhouette_score, calinski_harabasz_score\n",
    "import matplotlib.pyplot as plt\n",
    "\n",
    "# Preparing data for clustering\n",
    "segmentation_data = transactions.groupby('CustomerID').agg({'TotalValue': 'sum', 'Quantity': 'sum'}).reset_index()\n",
    "scaled_segmentation_data = scaler.fit_transform(segmentation_data[['TotalValue', 'Quantity']])\n",
    "\n",
    "# KMeans clustering\n",
    "kmeans = KMeans(n_clusters=5, random_state=42)\n",
    "clusters = kmeans.fit_predict(scaled_segmentation_data)\n",
    "segmentation_data['Cluster'] = clusters\n",
    "\n",
    "# Evaluate clustering\n",
    "db_index = davies_bouldin_score(scaled_segmentation_data, clusters)\n",
    "silhouette_avg = silhouette_score(scaled_segmentation_data, clusters)\n",
    "calinski_harabasz = calinski_harabasz_score(scaled_segmentation_data, clusters)\n",
    "\n",
    "# Print metrics\n",
    "print(f\"Davies-Bouldin Index: {db_index}\")\n",
    "print(f\"Silhouette Score: {silhouette_avg}\")\n",
    "print(f\"Calinski-Harabasz Index: {calinski_harabasz}\")\n",
    "\n",
    "# Cluster sizes\n",
    "cluster_sizes = segmentation_data['Cluster'].value_counts()\n",
    "print(\"Cluster Sizes:\")\n",
    "print(cluster_sizes)\n",
    "\n",
    "# Visualizing clusters\n",
    "plt.scatter(segmentation_data['TotalValue'], segmentation_data['Quantity'], c=segmentation_data['Cluster'], cmap='viridis')\n",
    "plt.title(\"Customer Segmentation\")\n",
    "plt.xlabel(\"Total Value\")\n",
    "plt.ylabel(\"Quantity\")\n",
    "plt.show()\n",
    "\n",
    "# Save clustering results\n",
    "segmentation_data.to_csv(\"Clustering_Results.csv\", index=False)\n"
   ]
  }
 ],
 "metadata": {
  "kernelspec": {
   "display_name": "Python 3 (ipykernel)",
   "language": "python",
   "name": "python3"
  },
  "language_info": {
   "codemirror_mode": {
    "name": "ipython",
    "version": 3
   },
   "file_extension": ".py",
   "mimetype": "text/x-python",
   "name": "python",
   "nbconvert_exporter": "python",
   "pygments_lexer": "ipython3",
   "version": "3.8.10"
  }
 },
 "nbformat": 4,
 "nbformat_minor": 5
}
