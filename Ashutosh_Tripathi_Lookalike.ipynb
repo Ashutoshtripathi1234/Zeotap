{
 "cells": [
  {
   "cell_type": "code",
   "execution_count": 2,
   "id": "98a5f4ac",
   "metadata": {},
   "outputs": [],
   "source": [
    "# Task 2: Lookalike Model\n",
    "\n",
    "from sklearn.metrics.pairwise import cosine_similarity\n",
    "from sklearn.preprocessing import StandardScaler\n",
    "\n",
    "# Preparing data for similarity calculations\n",
    "customer_data = customers.merge(transactions, on='CustomerID')\n",
    "customer_data = customer_data.groupby('CustomerID').agg({\"TotalValue\": \"sum\", \"Quantity\": \"sum\"}).reset_index()\n",
    "scaler = StandardScaler()\n",
    "scaled_data = scaler.fit_transform(customer_data[['TotalValue', 'Quantity']])\n",
    "\n",
    "# Calculate similarity matrix\n",
    "similarity_matrix = cosine_similarity(scaled_data)\n",
    "\n",
    "# Generate recommendations\n",
    "recommendations = {}\n",
    "for idx, customer_id in enumerate(customer_data['CustomerID']):\n",
    "    similar_indices = np.argsort(-similarity_matrix[idx])[1:4]  # Top 3 lookalikes\n",
    "    recommendations[customer_id] = [(customer_data['CustomerID'].iloc[i], similarity_matrix[idx][i]) for i in similar_indices]\n",
    "\n",
    "# Save to CSV\n",
    "recommendations_df = pd.DataFrame.from_dict(recommendations, orient='index', columns=['Lookalike_1', 'Lookalike_2', 'Lookalike_3'])\n",
    "recommendations_df.to_csv(\"Lookalike.csv\", index_label='CustomerID')"
   ]
  },
  {
   "cell_type": "code",
   "execution_count": null,
   "id": "45b3987b",
   "metadata": {},
   "outputs": [],
   "source": []
  }
 ],
 "metadata": {
  "kernelspec": {
   "display_name": "Python 3 (ipykernel)",
   "language": "python",
   "name": "python3"
  },
  "language_info": {
   "codemirror_mode": {
    "name": "ipython",
    "version": 3
   },
   "file_extension": ".py",
   "mimetype": "text/x-python",
   "name": "python",
   "nbconvert_exporter": "python",
   "pygments_lexer": "ipython3",
   "version": "3.8.10"
  }
 },
 "nbformat": 4,
 "nbformat_minor": 5
}
